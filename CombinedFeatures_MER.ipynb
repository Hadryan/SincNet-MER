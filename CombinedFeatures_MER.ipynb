{
  "nbformat": 4,
  "nbformat_minor": 0,
  "metadata": {
    "colab": {
      "name": "CombinedFeatures-MER.ipynb",
      "provenance": [],
      "collapsed_sections": []
    },
    "kernelspec": {
      "name": "python3",
      "display_name": "Python 3"
    }
  },
  "cells": [
    {
      "cell_type": "code",
      "metadata": {
        "id": "b4aqlQ-bJOzN",
        "outputId": "aa9a0461-50c7-4b79-aa4e-c83a2af8cef8",
        "colab": {
          "base_uri": "https://localhost:8080/",
          "height": 183
        }
      },
      "source": [
        "from google.colab import drive\n",
        "drive.mount(\"/content/drive/\", force_remount=True)\n",
        "%cd 'drive/My Drive/MIR'\n",
        "\n",
        "# import libraries\n",
        "import os, sys, shutil\n",
        "from pathlib import Path\n",
        "import pandas as pd\n",
        "import importlib.util\n",
        "if importlib.util.find_spec('essentia') is None:\n",
        "  !pip install essentia\n",
        "import matplotlib.pyplot as plt\n",
        "import essentia.standard as ess\n",
        "from sklearn.model_selection import train_test_split\n",
        "import numpy as np\n",
        "from sklearn import preprocessing\n",
        "from numpy import set_printoptions\n",
        "from sklearn.feature_selection import SelectKBest, chi2\n",
        "import warnings\n",
        "warnings.filterwarnings('ignore')#suppress warnings\n",
        "from sklearn.model_selection import train_test_split\n",
        "from sklearn.preprocessing import StandardScaler\n",
        "from sklearn.datasets import make_moons, make_circles, make_classification\n",
        "from sklearn.neural_network import MLPClassifier\n",
        "from sklearn.neighbors import KNeighborsClassifier\n",
        "from sklearn.svm import SVC\n",
        "from sklearn.gaussian_process import GaussianProcessClassifier\n",
        "from sklearn.gaussian_process.kernels import RBF\n",
        "from sklearn.naive_bayes import GaussianNB\n",
        "from sklearn.ensemble import RandomForestClassifier\n",
        "from sklearn.metrics import classification_report\n",
        "from sklearn.metrics import confusion_matrix\n",
        "import seaborn as sns\n",
        "import matplotlib.pyplot as plt"
      ],
      "execution_count": null,
      "outputs": [
        {
          "output_type": "stream",
          "text": [
            "Mounted at /content/drive/\n",
            "/content/drive/My Drive/MIR\n",
            "Collecting essentia\n",
            "\u001b[?25l  Downloading https://files.pythonhosted.org/packages/d6/cf/3c776d02b63fed7b0958bef2ce57b900870e2ac3f1fd8ffbb63f22d0e69e/essentia-2.1b6.dev234-cp36-cp36m-manylinux1_x86_64.whl (11.7MB)\n",
            "\u001b[K     |████████████████████████████████| 11.7MB 340kB/s \n",
            "\u001b[?25hRequirement already satisfied: six in /usr/local/lib/python3.6/dist-packages (from essentia) (1.15.0)\n",
            "Requirement already satisfied: pyyaml in /usr/local/lib/python3.6/dist-packages (from essentia) (3.13)\n",
            "Requirement already satisfied: numpy>=1.8.2 in /usr/local/lib/python3.6/dist-packages (from essentia) (1.18.5)\n",
            "Installing collected packages: essentia\n",
            "Successfully installed essentia-2.1b6.dev234\n"
          ],
          "name": "stdout"
        }
      ]
    },
    {
      "cell_type": "code",
      "metadata": {
        "id": "YLfdhq6mJWxN",
        "outputId": "f1b82c99-090c-41d7-9c35-745b32b71dca",
        "colab": {
          "base_uri": "https://localhost:8080/",
          "height": 83
        }
      },
      "source": [
        "#train_file = 'MER_audio_taffc_dataset/train_segments/train_data.csv' \n",
        "#test_file = 'MER_audio_taffc_dataset/test_segments/test_data.csv'\n",
        "#train_file = 'CH-818/train_segments/train_data.csv'\n",
        "#test_file = 'CH-818/test_segments/test_data.csv' \n",
        "train_file = 'tr-music-dataset/train_segments/train_data.csv' \n",
        "test_file = 'tr-music-dataset/test_segments/test_data.csv'\n",
        "\n",
        "train_data1 = pd.read_csv(train_file)\n",
        "test_data1 = pd.read_csv(test_file)\n",
        "print(train_data1.shape)\n",
        "\n",
        "#train_file = 'smile-features/4Q-train-features.csv' \n",
        "#test_file = 'smile-features/4Q-test-features.csv'\n",
        "#train_file = 'smile-features/CH-train-features.csv' \n",
        "#test_file = 'smile-features/CH-test-features.csv'\n",
        "train_file = 'smile-features/TR-train-features.csv' \n",
        "test_file = 'smile-features/TR-test-features.csv'    \n",
        "\n",
        "train_data2 =  pd.read_csv(train_file, sep=',')\n",
        "test_data2 =  pd.read_csv(test_file, sep=',')\n",
        "train_data2 = train_data2.drop(\"frameTime\", axis=1)\n",
        "test_data2 = test_data2.drop(\"frameTime\", axis=1)\n",
        "print(train_data2.shape)\n",
        "\n",
        "#combine all files in the list\n",
        "train_data = pd.concat([train_data1.iloc[:,:84], train_data2], axis=1)\n",
        "print(train_data.shape)\n",
        "test_data = pd.concat([test_data1.iloc[:,:84], test_data2], axis=1)\n",
        "print(test_data.shape)\n",
        "\n",
        "#export to csv\n",
        "#train_data.to_csv(\"4Q-combined-train-features.csv\")\n",
        "#test_data.to_csv(\"4Q-combined-test-features.csv\")"
      ],
      "execution_count": null,
      "outputs": [
        {
          "output_type": "stream",
          "text": [
            "(1280, 85)\n",
            "(1280, 261)\n",
            "(1280, 345)\n",
            "(320, 345)\n"
          ],
          "name": "stdout"
        }
      ]
    },
    {
      "cell_type": "code",
      "metadata": {
        "id": "wlpw_fmtMxrI"
      },
      "source": [
        "train_data_modif = train_data.copy()\n",
        "test_data_modif = test_data.copy()\n",
        "\n",
        "min_max_scaler = preprocessing.MinMaxScaler()\n",
        "train_data_modif.iloc[:,:344] = min_max_scaler.fit_transform(train_data.iloc[:,:344].values)\n",
        "test_data_modif.iloc[:,:344] = min_max_scaler.fit_transform(test_data.iloc[:,:344].values)"
      ],
      "execution_count": null,
      "outputs": []
    },
    {
      "cell_type": "code",
      "metadata": {
        "id": "tW4OWizNVpa1",
        "outputId": "d657bd13-4143-4669-ab9c-899b67748716",
        "colab": {
          "base_uri": "https://localhost:8080/",
          "height": 100
        }
      },
      "source": [
        "train_data_modif.emotion.value_counts()"
      ],
      "execution_count": null,
      "outputs": [
        {
          "output_type": "execute_result",
          "data": {
            "text/plain": [
              "q3    328\n",
              "q4    328\n",
              "q1    328\n",
              "q2    296\n",
              "Name: emotion, dtype: int64"
            ]
          },
          "metadata": {
            "tags": []
          },
          "execution_count": 9
        }
      ]
    },
    {
      "cell_type": "code",
      "metadata": {
        "id": "W_BrViNCVrTH",
        "outputId": "6e58c3f9-2774-4c94-c2a9-ddaae9ff06b9",
        "colab": {
          "base_uri": "https://localhost:8080/",
          "height": 100
        }
      },
      "source": [
        "# Balancing data   ---> adapt this to the numbers above\n",
        "data_modif = train_data_modif\n",
        "min_number = data_modif.emotion.value_counts()['q2']\n",
        "q2_data = data_modif[data_modif.emotion == 'q2'].sample(n = min_number, random_state = 42)\n",
        "q1_data = data_modif[data_modif.emotion == 'q1'].sample(n = min_number, random_state = 42)\n",
        "q3_data = data_modif[data_modif.emotion == 'q3'].sample(n = min_number, random_state = 42)\n",
        "q4_data = data_modif[data_modif.emotion == 'q4'].sample(n = min_number, random_state = 42)\n",
        "\n",
        "#Merging after downsampling\n",
        "train_data_modif = pd.concat([q1_data, q2_data, q3_data, q4_data])\n",
        "#Checking the balance again\n",
        "train_data_modif.emotion.value_counts()"
      ],
      "execution_count": null,
      "outputs": [
        {
          "output_type": "execute_result",
          "data": {
            "text/plain": [
              "q3    296\n",
              "q4    296\n",
              "q2    296\n",
              "q1    296\n",
              "Name: emotion, dtype: int64"
            ]
          },
          "metadata": {
            "tags": []
          },
          "execution_count": 10
        }
      ]
    },
    {
      "cell_type": "code",
      "metadata": {
        "id": "KM6K6fWXVvNy",
        "outputId": "983acca9-e641-4517-f1f8-52087071c325",
        "colab": {
          "base_uri": "https://localhost:8080/",
          "height": 917
        }
      },
      "source": [
        "# Preparing data arrays for features and labels\n",
        "#input values put in a matrix, there are 260 features\n",
        "X_train = train_data_modif.iloc[:,:260].values \n",
        "X_test = test_data_modif.iloc[:,:260].values \n",
        "#Creating output values\n",
        "train_data_modif.emotion = pd.Categorical(train_data_modif.emotion)#convert to categorical data\n",
        "test_data_modif.emotion = pd.Categorical(test_data_modif.emotion)#convert to categorical data\n",
        "y_train = np.array(train_data_modif.emotion.cat.codes) #create label encoded outputs\n",
        "y_test = np.array(test_data_modif.emotion.cat.codes) #create label encoded outputs\n",
        "\n",
        "# Feature selection\n",
        "z = SelectKBest(chi2, k=50)\n",
        "fit = z.fit(X_train, y_train)\n",
        "# summarize scores\n",
        "set_printoptions(precision=3)\n",
        "ten = fit.scores_.argsort()[-50:][::-1] # 10 best features selected \n",
        "\n",
        "X_train = fit.transform(X_train)\n",
        "X_test = fit.transform(X_test)   # only consider selected features from the training set\n",
        "print('X_train shape is ', X_train.shape)\n",
        "print('X_test shape is ', X_test.shape, '\\n')\n",
        "\n",
        "print('Top 10 selected features: ')\n",
        "for i in ten:\n",
        "    print(train_data_modif.keys()[i])"
      ],
      "execution_count": null,
      "outputs": [
        {
          "output_type": "stream",
          "text": [
            "X_train shape is  (1184, 50)\n",
            "X_test shape is  (320, 50) \n",
            "\n",
            "Top 10 selected features: \n",
            "logHNR_sma_stddev\n",
            "spectral_centroid.mean\n",
            "spectral_skewness.stdev\n",
            "spectral_kurtosis.stdev\n",
            "melbands_spread.mean\n",
            "barkbands_spread.mean\n",
            "silence_rate_30dB.stdev\n",
            "pcm_fftMag_spectralCentroid_sma_amean\n",
            "barkbands_flatness_db.mean\n",
            "silence_rate_60dB.stdev\n",
            "spectral_kurtosis.mean\n",
            "melbands_flatness_db.mean\n",
            "zerocrossingrate.mean\n",
            "pcm_fftMag_spectralRollOff75.0_sma_amean\n",
            "pcm_fftMag_spectralRollOff90.0_sma_amean\n",
            "spectral_complexity.stdev\n",
            "pcm_fftMag_spectralVariance_sma_amean\n",
            "spectral_complexity.mean\n",
            "spectral_rolloff.mean\n",
            "pcm_zcr_sma_amean\n",
            "erbbands_crest.mean\n",
            "pcm_fftMag_psySharpness_sma_amean\n",
            "audspec_lengthL1norm_sma_de_stddev\n",
            "spectral_skewness.mean\n",
            "pcm_fftMag_spectralRollOff50.0_sma_amean\n",
            "erbbands_flatness_db.mean\n",
            "logHNR_sma_de_stddev\n",
            "F0final_sma_stddev\n",
            "spectral_flux.mean\n",
            "silence_rate_60dB.mean\n",
            "spectral_entropy.stdev\n",
            "spectral_energyband_high.mean\n",
            "F0final_sma_amean\n",
            "dissonance.stdev\n",
            "erbbands_kurtosis.mean\n",
            "spectral_energyband_low.mean\n",
            "silence_rate_20dB.stdev\n",
            "pcm_fftMag_spectralSkewness_sma_stddev\n",
            "pcm_fftMag_spectralRollOff25.0_sma_amean\n",
            "erbbands_kurtosis.stdev\n",
            "spectral_energyband_middle_high.mean\n",
            "pcm_fftMag_fband1000-4000_sma_amean\n",
            "pcm_fftMag_spectralEntropy_sma_amean\n",
            "hfc.mean\n",
            "mfcc_sma[1]_amean\n",
            "pcm_fftMag_spectralKurtosis_sma_stddev\n",
            "erbbands_spread.mean\n",
            "spectral_entropy.mean\n",
            "pcm_fftMag_spectralSkewness_sma_amean\n",
            "mfcc_sma[8]_stddev\n"
          ],
          "name": "stdout"
        }
      ]
    },
    {
      "cell_type": "code",
      "metadata": {
        "id": "7YRBeIwCVz3r",
        "outputId": "01a724f8-5827-486b-edeb-87532d9f1376",
        "colab": {
          "base_uri": "https://localhost:8080/",
          "height": 577
        }
      },
      "source": [
        "selected_model = MLPClassifier(alpha=1, max_iter=1000)\n",
        "selected_model.fit(X_train,y_train)\n",
        "y_pred = selected_model.predict(X_test)\n",
        "print(\"Number of test samples: \", len(y_pred))\n",
        "\n",
        "print(classification_report(y_test, y_pred))\n",
        "\n",
        "# Confusion matrix\n",
        "print(\"Confusion matrix: \\n\")\n",
        "classes = np.unique(test_data_modif.emotion)\n",
        "conf_mat = pd.DataFrame(confusion_matrix(y_test, y_pred), columns = classes, index = classes)\n",
        "conf_mat.index.name = 'Actual'\n",
        "conf_mat.columns.name = 'Predicted'\n",
        "plt.figure(figsize = (7, 5))\n",
        "sns.set(font_scale = 1.2)\n",
        "sns.heatmap(conf_mat, cmap = \"Blues\", annot_kws = {\"size\": 12}, annot = True, fmt=\"d\");"
      ],
      "execution_count": null,
      "outputs": [
        {
          "output_type": "stream",
          "text": [
            "Number of test samples:  288\n",
            "              precision    recall  f1-score   support\n",
            "\n",
            "           0       0.21      0.21      0.21        52\n",
            "           1       0.14      0.15      0.15        72\n",
            "           2       0.28      0.29      0.28        92\n",
            "           3       0.08      0.07      0.07        72\n",
            "\n",
            "    accuracy                           0.19       288\n",
            "   macro avg       0.18      0.18      0.18       288\n",
            "weighted avg       0.18      0.19      0.18       288\n",
            "\n",
            "Confusion matrix: \n",
            "\n"
          ],
          "name": "stdout"
        },
        {
          "output_type": "display_data",
          "data": {
            "image/png": "[encoded data removed]",
            "text/plain": [
              "<Figure size 504x360 with 2 Axes>"
            ]
          },
          "metadata": {
            "tags": []
          }
        }
      ]
    }
  ]
}