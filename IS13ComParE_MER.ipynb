{
  "nbformat": 4,
  "nbformat_minor": 0,
  "metadata": {
    "colab": {
      "name": "IS13ComParE-MER.ipynb",
      "provenance": [],
      "collapsed_sections": []
    },
    "kernelspec": {
      "name": "python3",
      "display_name": "Python 3"
    }
  },
  "cells": [
    {
      "cell_type": "markdown",
      "metadata": {
        "id": "EdFCxsYsodzQ"
      },
      "source": [
        "## Mount drive & imports"
      ]
    },
    {
      "cell_type": "code",
      "metadata": {
        "id": "pNwRHz45pJX8",
        "outputId": "0e3baaba-afc0-4569-db07-4d66e8651cc8",
        "colab": {
          "base_uri": "https://localhost:8080/",
          "height": 50
        }
      },
      "source": [
        "from google.colab import drive\n",
        "drive.mount(\"/content/drive/\", force_remount=True)\n",
        "%cd 'drive/My Drive/MIR'\n",
        "\n",
        "import pandas as pd\n",
        "from sklearn import preprocessing\n",
        "from sklearn.feature_selection import SelectKBest, chi2\n",
        "import numpy as np\n",
        "from numpy import set_printoptions\n",
        "from sklearn.metrics import confusion_matrix\n",
        "import seaborn as sns\n",
        "import matplotlib.pyplot as plt\n",
        "from sklearn.metrics import classification_report\n",
        "from sklearn.neural_network import MLPClassifier\n",
        "from sklearn.neighbors import KNeighborsClassifier\n",
        "from sklearn.svm import SVC\n",
        "from sklearn.gaussian_process import GaussianProcessClassifier\n",
        "from sklearn.gaussian_process.kernels import RBF\n",
        "from sklearn.naive_bayes import GaussianNB\n",
        "from sklearn.ensemble import RandomForestClassifier\n",
        "from sklearn.metrics import classification_report\n",
        "from sklearn.metrics import confusion_matrix\n",
        "import seaborn as sns\n",
        "import matplotlib.pyplot as plt\n",
        "from sklearn.model_selection import train_test_split\n",
        "from sklearn.preprocessing import StandardScaler\n",
        "from sklearn.datasets import make_moons, make_circles, make_classification"
      ],
      "execution_count": 1,
      "outputs": [
        {
          "output_type": "stream",
          "text": [
            "Mounted at /content/drive/\n",
            "/content/drive/My Drive/MIR\n"
          ],
          "name": "stdout"
        }
      ]
    },
    {
      "cell_type": "markdown",
      "metadata": {
        "id": "lfQHCSgPXzl6"
      },
      "source": [
        "## Features"
      ]
    },
    {
      "cell_type": "markdown",
      "metadata": {
        "id": "x5ZEZIRsmSvV"
      },
      "source": [
        "Load .csv files"
      ]
    },
    {
      "cell_type": "code",
      "metadata": {
        "id": "FVvi0ThlH_d4",
        "outputId": "85736b72-da28-4e86-d9fa-aa6c5adc316a",
        "colab": {
          "base_uri": "https://localhost:8080/",
          "height": 67
        }
      },
      "source": [
        "#train_file = 'smile-features/4Q-train-features.csv' \n",
        "#test_file = 'smile-features/4Q-test-features.csv'\n",
        "#train_file = 'smile-features/CH-train-features.csv' \n",
        "#test_file = 'smile-features/CH-test-features.csv'\n",
        "train_file = 'smile-features/TR-train-features.csv' \n",
        "test_file = 'smile-features/TR-test-features.csv'    \n",
        "\n",
        "train_data =  pd.read_csv(train_file, sep=',')\n",
        "test_data =  pd.read_csv(test_file, sep=',')\n",
        "\n",
        "train_data = train_data.drop(\"frameTime\", axis=1)\n",
        "test_data = test_data.drop(\"frameTime\", axis=1)\n",
        "\n",
        "print(\"Data is null:\")\n",
        "print(train_data.isnull().sum().sum())#sums a matrix of True/False values obtained by checking if each value is Nan\n",
        "print(test_data.isnull().sum().sum())"
      ],
      "execution_count": 3,
      "outputs": [
        {
          "output_type": "stream",
          "text": [
            "Data is null:\n",
            "0\n",
            "0\n"
          ],
          "name": "stdout"
        }
      ]
    },
    {
      "cell_type": "markdown",
      "metadata": {
        "id": "VDCw5hl1nQkx"
      },
      "source": [
        "Normalize features"
      ]
    },
    {
      "cell_type": "code",
      "metadata": {
        "id": "Si2TpumcIZ_E"
      },
      "source": [
        "train_data_modif = train_data.copy()\n",
        "test_data_modif = test_data.copy()\n",
        "\n",
        "min_max_scaler = preprocessing.MinMaxScaler()\n",
        "train_data_modif.iloc[:,:260] = min_max_scaler.fit_transform(train_data.iloc[:,:260].values)\n",
        "test_data_modif.iloc[:,:260] = min_max_scaler.fit_transform(test_data.iloc[:,:260].values)"
      ],
      "execution_count": 4,
      "outputs": []
    },
    {
      "cell_type": "markdown",
      "metadata": {
        "id": "h13mRz4Xvwa3"
      },
      "source": [
        "Re-balance train set"
      ]
    },
    {
      "cell_type": "code",
      "metadata": {
        "id": "dNkj90CRmchl",
        "outputId": "7a008c14-96bd-4c50-e53e-2e4714bb795d",
        "colab": {
          "base_uri": "https://localhost:8080/",
          "height": 100
        }
      },
      "source": [
        "train_data_modif.emotion.value_counts()"
      ],
      "execution_count": 5,
      "outputs": [
        {
          "output_type": "execute_result",
          "data": {
            "text/plain": [
              "q1    328\n",
              "q3    328\n",
              "q4    328\n",
              "q2    296\n",
              "Name: emotion, dtype: int64"
            ]
          },
          "metadata": {
            "tags": []
          },
          "execution_count": 5
        }
      ]
    },
    {
      "cell_type": "code",
      "metadata": {
        "id": "CjG4GmPVwif3",
        "outputId": "cb7d434b-5be6-4c3e-fe28-791044ffb0d4",
        "colab": {
          "base_uri": "https://localhost:8080/",
          "height": 100
        }
      },
      "source": [
        "# Balancing data   ---> adapt this to the numbers above\n",
        "data_modif = train_data_modif\n",
        "min_number = data_modif.emotion.value_counts()['q2']\n",
        "q2_data = data_modif[data_modif.emotion == 'q2'].sample(n = min_number, random_state = 42)\n",
        "q1_data = data_modif[data_modif.emotion == 'q1'].sample(n = min_number, random_state = 42)\n",
        "q3_data = data_modif[data_modif.emotion == 'q3'].sample(n = min_number, random_state = 42)\n",
        "q4_data = data_modif[data_modif.emotion == 'q4'].sample(n = min_number, random_state = 42)\n",
        "\n",
        "#Merging after downsampling\n",
        "train_data_modif = pd.concat([q1_data, q2_data, q3_data, q4_data])\n",
        "#Checking the balance again\n",
        "train_data_modif.emotion.value_counts()"
      ],
      "execution_count": 6,
      "outputs": [
        {
          "output_type": "execute_result",
          "data": {
            "text/plain": [
              "q1    296\n",
              "q3    296\n",
              "q4    296\n",
              "q2    296\n",
              "Name: emotion, dtype: int64"
            ]
          },
          "metadata": {
            "tags": []
          },
          "execution_count": 6
        }
      ]
    },
    {
      "cell_type": "markdown",
      "metadata": {
        "id": "sDHEcTGHAV3R"
      },
      "source": [
        "Feature selection"
      ]
    },
    {
      "cell_type": "code",
      "metadata": {
        "id": "ui5drQQaIfWf",
        "outputId": "59f3ac40-0e78-4be8-c3e1-8e3018dff2c8",
        "colab": {
          "base_uri": "https://localhost:8080/",
          "height": 250
        }
      },
      "source": [
        "# Preparing data arrays for features and labels\n",
        "#input values put in a matrix, there are 260 features\n",
        "X_train = train_data_modif.iloc[:,:260].values \n",
        "X_test = test_data_modif.iloc[:,:260].values \n",
        "#Creating output values\n",
        "train_data_modif.emotion = pd.Categorical(train_data_modif.emotion)#convert to categorical data\n",
        "test_data_modif.emotion = pd.Categorical(test_data_modif.emotion)#convert to categorical data\n",
        "y_train = np.array(train_data_modif.emotion.cat.codes) #create label encoded outputs\n",
        "y_test = np.array(test_data_modif.emotion.cat.codes) #create label encoded outputs\n",
        "\n",
        "# Feature selection\n",
        "z = SelectKBest(chi2, k=50)\n",
        "fit = z.fit(X_train, y_train)\n",
        "# summarize scores\n",
        "set_printoptions(precision=3)\n",
        "ten = fit.scores_.argsort()[-10:][::-1] # 10 best features selected \n",
        "\n",
        "X_train = fit.transform(X_train)\n",
        "X_test = fit.transform(X_test)   # only consider selected features from the training set\n",
        "print('X_train shape is ', X_train.shape)\n",
        "print('X_test shape is ', X_test.shape, '\\n')\n",
        "\n",
        "print('Top 10 selected features: ')\n",
        "for i in ten:\n",
        "    print(train_data_modif.keys()[i])"
      ],
      "execution_count": 7,
      "outputs": [
        {
          "output_type": "stream",
          "text": [
            "X_train shape is  (1184, 50)\n",
            "X_test shape is  (320, 50) \n",
            "\n",
            "Top 10 selected features: \n",
            "logHNR_sma_stddev\n",
            "pcm_fftMag_spectralCentroid_sma_amean\n",
            "pcm_fftMag_spectralRollOff75.0_sma_amean\n",
            "pcm_fftMag_spectralRollOff90.0_sma_amean\n",
            "pcm_fftMag_spectralRollOff50.0_sma_de_stddev\n",
            "pcm_fftMag_spectralVariance_sma_amean\n",
            "pcm_zcr_sma_amean\n",
            "pcm_fftMag_psySharpness_sma_amean\n",
            "audspec_lengthL1norm_sma_de_stddev\n",
            "pcm_fftMag_spectralRollOff50.0_sma_amean\n"
          ],
          "name": "stdout"
        }
      ]
    },
    {
      "cell_type": "markdown",
      "metadata": {
        "id": "8Q2MEB7eNpSw"
      },
      "source": [
        "## Machine Learning"
      ]
    },
    {
      "cell_type": "markdown",
      "metadata": {
        "id": "OGFUErDGZHTM"
      },
      "source": [
        "Comparison of classifiers"
      ]
    },
    {
      "cell_type": "code",
      "metadata": {
        "id": "hnKprSS8ZKAX",
        "outputId": "610a3ecd-f894-4f3f-d6b7-757db4110de7",
        "colab": {
          "base_uri": "https://localhost:8080/",
          "height": 133
        }
      },
      "source": [
        "classifiers = [\n",
        "    KNeighborsClassifier(3),\n",
        "    SVC(kernel=\"linear\", C=0.025),\n",
        "    SVC(gamma = 1 / (X_train.shape[-1] * X_train.var())),\n",
        "    GaussianProcessClassifier(1.0 * RBF(1.0)),\n",
        "    MLPClassifier(alpha=1, max_iter=1000),\n",
        "    GaussianNB(),\n",
        "    RandomForestClassifier(max_depth=15, random_state=0)]\n",
        "\n",
        "names = [\"KNN\", \"Linear SVM\", \"RBF SVM\", \"Gaussian Process\",\"Neural Net\", \"Naive Bayes\", \"Random Forest\"]\n",
        "\n",
        "#Creating empty list of scores for each classifier, we will append test results to these lists \n",
        "scores = {}\n",
        "for name in names:\n",
        "    scores[name] = []\n",
        "\n",
        "#Let's run 10 random experiments, collect scores for each classifier \n",
        "num_tests = 10\n",
        "for iteration_number in range(num_tests):\n",
        "    x_train_val, x_val, y_train_val, y_val = train_test_split(X_train, y_train, test_size = 1/num_tests, random_state = iteration_number)\n",
        "    #normalisation of the data (learned from training data, applied to test data)\n",
        "    scaler = StandardScaler().fit(x_train_val)\n",
        "    norm_x_train = scaler.transform(x_train_val)\n",
        "    norm_x_val = scaler.transform(x_val)\n",
        "    \n",
        "    # test over each classifier\n",
        "    for name, clf in zip(names, classifiers):\n",
        "        clf.fit(norm_x_train, y_train_val)#train\n",
        "        score = clf.score(norm_x_val, y_val)#test\n",
        "        scores[name].append(score)\n",
        "\n",
        "for name, score in scores.items():\n",
        "    print(\"{0}: acc = {1:1.2f}, +-{2:1.2f},\\tvalues: {3}\".format(name, np.mean(score), np.std(score), np.around(score, decimals = 2)))"
      ],
      "execution_count": null,
      "outputs": [
        {
          "output_type": "stream",
          "text": [
            "KNN: acc = 0.85, +-0.03,\tvalues: [0.84 0.82 0.79 0.86 0.87 0.85 0.82 0.9  0.91 0.83]\n",
            "Linear SVM: acc = 0.82, +-0.02,\tvalues: [0.84 0.84 0.8  0.85 0.81 0.82 0.8  0.8  0.87 0.82]\n",
            "RBF SVM: acc = 0.55, +-0.06,\tvalues: [0.58 0.67 0.55 0.45 0.57 0.56 0.47 0.61 0.53 0.51]\n",
            "Gaussian Process: acc = 0.69, +-0.17,\tvalues: [0.88 0.45 0.63 0.85 0.63 0.86 0.82 0.45 0.47 0.83]\n",
            "Neural Net: acc = 0.88, +-0.02,\tvalues: [0.88 0.92 0.85 0.87 0.88 0.87 0.86 0.86 0.88 0.88]\n",
            "Naive Bayes: acc = 0.70, +-0.03,\tvalues: [0.67 0.7  0.67 0.76 0.66 0.69 0.73 0.7  0.76 0.71]\n",
            "Random Forest: acc = 0.86, +-0.02,\tvalues: [0.87 0.88 0.85 0.91 0.84 0.83 0.86 0.84 0.89 0.85]\n"
          ],
          "name": "stdout"
        }
      ]
    },
    {
      "cell_type": "markdown",
      "metadata": {
        "id": "K1eS4A-2ZMkW"
      },
      "source": [
        "Multi-layer perceptron"
      ]
    },
    {
      "cell_type": "code",
      "metadata": {
        "id": "jOg9WOh1Neac",
        "outputId": "2f4c2880-37c9-40d4-8296-d50c46a62546",
        "colab": {
          "base_uri": "https://localhost:8080/",
          "height": 577
        }
      },
      "source": [
        "selected_model = MLPClassifier(alpha=1, max_iter=1000)\n",
        "selected_model.fit(X_train,y_train)\n",
        "y_pred = selected_model.predict(X_test)\n",
        "print(\"Number of test samples: \", len(y_pred))\n",
        "\n",
        "print(classification_report(y_test, y_pred))\n",
        "\n",
        "# Confusion matrix\n",
        "print(\"Confusion matrix: \\n\")\n",
        "classes = np.unique(test_data_modif.emotion)\n",
        "conf_mat = pd.DataFrame(confusion_matrix(y_test, y_pred), columns = classes, index = classes)\n",
        "conf_mat.index.name = 'Actual'\n",
        "conf_mat.columns.name = 'Predicted'\n",
        "plt.figure(figsize = (7, 5))\n",
        "sns.set(font_scale = 1.2)\n",
        "sns.heatmap(conf_mat, cmap = \"Blues\", annot_kws = {\"size\": 12}, annot = True, fmt=\"d\");"
      ],
      "execution_count": 8,
      "outputs": [
        {
          "output_type": "stream",
          "text": [
            "Number of test samples:  320\n",
            "              precision    recall  f1-score   support\n",
            "\n",
            "           0       0.75      0.76      0.76        72\n",
            "           1       0.97      0.71      0.82       104\n",
            "           2       0.51      0.67      0.58        72\n",
            "           3       0.68      0.72      0.70        72\n",
            "\n",
            "    accuracy                           0.72       320\n",
            "   macro avg       0.73      0.72      0.71       320\n",
            "weighted avg       0.75      0.72      0.73       320\n",
            "\n",
            "Confusion matrix: \n",
            "\n"
          ],
          "name": "stdout"
        },
        {
          "output_type": "display_data",
          "data": {
            "image/png": "[encoded data removed]",
            "text/plain": [
              "<Figure size 504x360 with 2 Axes>"
            ]
          },
          "metadata": {
            "tags": [],
            "needs_background": "light"
          }
        }
      ]
    }
  ]
}